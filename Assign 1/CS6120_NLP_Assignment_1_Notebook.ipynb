{
 "cells": [
  {
   "cell_type": "markdown",
   "id": "bc97d6da",
   "metadata": {
    "id": "bc97d6da"
   },
   "source": [
    "## CS 6120: Natural Language Processing - Prof. Ahmad Uzair\n",
    "\n",
    "### Assignment 1: Naive Bayes\n",
    "### Total Points: 100 points\n",
    "\n",
    "You will be dealing with movie review data that includes both positive and negative reviews in this assignment. You will use Sentiment Analysis to assess if a given review is positive or negative using the provided dataset.\n",
    "\n",
    "Therefore, we will make use of Naive Bayes algorithm to perform sentiment analysis on the movie review dataset.\n",
    "\n",
    "## Importing the Libraries"
   ]
  },
  {
   "cell_type": "code",
   "execution_count": 1,
   "id": "a03450ac",
   "metadata": {
    "id": "a03450ac"
   },
   "outputs": [],
   "source": [
    "import numpy as np\n",
    "import math\n",
    "import pandas as pd\n",
    "import re\n",
    "import nltk\n",
    "from nltk.corpus import stopwords\n",
    "from nltk.stem import PorterStemmer\n",
    "from nltk.tokenize import word_tokenize\n",
    "import warnings\n",
    "import seaborn as sns\n",
    "import matplotlib.pyplot as plt\n",
    "warnings.filterwarnings(\"ignore\")"
   ]
  },
  {
   "cell_type": "markdown",
   "id": "fc584cc2",
   "metadata": {
    "id": "fc584cc2"
   },
   "source": [
    "## Reading the data\n",
    "\n",
    "When reading the data, ensure that the '.csv' file is in the same location where your jupyter notebook is used. This way the files are organized and easy to read using the pandas library. "
   ]
  },
  {
   "cell_type": "code",
   "execution_count": 2,
   "id": "3c9ffbf5",
   "metadata": {
    "id": "3c9ffbf5"
   },
   "outputs": [],
   "source": [
    "## Reading the data and removing columns that are not important. \n",
    "df = pd.read_csv(\"movie_reviews-1.csv\", sep = ',', encoding = 'latin-1', usecols = lambda col: col not in [\"Unnamed: 2\", \"Unnamed: 3\", \"Unnamed: 4\"])"
   ]
  },
  {
   "cell_type": "code",
   "execution_count": 3,
   "id": "f7fa8ac0",
   "metadata": {
    "colab": {
     "base_uri": "https://localhost:8080/",
     "height": 206
    },
    "id": "f7fa8ac0",
    "outputId": "69edaf28-1e2e-4ec7-9530-b30a2853ab9e"
   },
   "outputs": [
    {
     "data": {
      "text/html": [
       "<div>\n",
       "<style scoped>\n",
       "    .dataframe tbody tr th:only-of-type {\n",
       "        vertical-align: middle;\n",
       "    }\n",
       "\n",
       "    .dataframe tbody tr th {\n",
       "        vertical-align: top;\n",
       "    }\n",
       "\n",
       "    .dataframe thead th {\n",
       "        text-align: right;\n",
       "    }\n",
       "</style>\n",
       "<table border=\"1\" class=\"dataframe\">\n",
       "  <thead>\n",
       "    <tr style=\"text-align: right;\">\n",
       "      <th></th>\n",
       "      <th>review</th>\n",
       "      <th>sentiment</th>\n",
       "    </tr>\n",
       "  </thead>\n",
       "  <tbody>\n",
       "    <tr>\n",
       "      <th>0</th>\n",
       "      <td>One of the other reviewers has mentioned that ...</td>\n",
       "      <td>positive</td>\n",
       "    </tr>\n",
       "    <tr>\n",
       "      <th>1</th>\n",
       "      <td>A wonderful little production. &lt;br /&gt;&lt;br /&gt;The...</td>\n",
       "      <td>positive</td>\n",
       "    </tr>\n",
       "    <tr>\n",
       "      <th>2</th>\n",
       "      <td>I thought this was a wonderful way to spend ti...</td>\n",
       "      <td>positive</td>\n",
       "    </tr>\n",
       "    <tr>\n",
       "      <th>3</th>\n",
       "      <td>Petter Mattei's \"Love in the Time of Money\" is...</td>\n",
       "      <td>positive</td>\n",
       "    </tr>\n",
       "    <tr>\n",
       "      <th>4</th>\n",
       "      <td>Probably my all-time favorite movie, a story o...</td>\n",
       "      <td>positive</td>\n",
       "    </tr>\n",
       "    <tr>\n",
       "      <th>...</th>\n",
       "      <td>...</td>\n",
       "      <td>...</td>\n",
       "    </tr>\n",
       "    <tr>\n",
       "      <th>24694</th>\n",
       "      <td>I have seen this movie at the cinema many year...</td>\n",
       "      <td>negative</td>\n",
       "    </tr>\n",
       "    <tr>\n",
       "      <th>24695</th>\n",
       "      <td>This movie was a real torture fest to sit thro...</td>\n",
       "      <td>negative</td>\n",
       "    </tr>\n",
       "    <tr>\n",
       "      <th>24696</th>\n",
       "      <td>John Wayne &amp; Albert Dekker compete for oil rig...</td>\n",
       "      <td>negative</td>\n",
       "    </tr>\n",
       "    <tr>\n",
       "      <th>24697</th>\n",
       "      <td>Tarantino once remarked on a melodrama from th...</td>\n",
       "      <td>positive</td>\n",
       "    </tr>\n",
       "    <tr>\n",
       "      <th>24698</th>\n",
       "      <td>Aah yes the workout show was a great. Not only...</td>\n",
       "      <td>positive</td>\n",
       "    </tr>\n",
       "  </tbody>\n",
       "</table>\n",
       "<p>24699 rows × 2 columns</p>\n",
       "</div>"
      ],
      "text/plain": [
       "                                                  review sentiment\n",
       "0      One of the other reviewers has mentioned that ...  positive\n",
       "1      A wonderful little production. <br /><br />The...  positive\n",
       "2      I thought this was a wonderful way to spend ti...  positive\n",
       "3      Petter Mattei's \"Love in the Time of Money\" is...  positive\n",
       "4      Probably my all-time favorite movie, a story o...  positive\n",
       "...                                                  ...       ...\n",
       "24694  I have seen this movie at the cinema many year...  negative\n",
       "24695  This movie was a real torture fest to sit thro...  negative\n",
       "24696  John Wayne & Albert Dekker compete for oil rig...  negative\n",
       "24697  Tarantino once remarked on a melodrama from th...  positive\n",
       "24698  Aah yes the workout show was a great. Not only...  positive\n",
       "\n",
       "[24699 rows x 2 columns]"
      ]
     },
     "execution_count": 3,
     "metadata": {},
     "output_type": "execute_result"
    }
   ],
   "source": [
    "df  # print head of data frame with help of head function"
   ]
  },
  {
   "cell_type": "markdown",
   "id": "1749da04",
   "metadata": {
    "id": "1749da04"
   },
   "source": [
    "## Count plot of the output categories: positive or negative\n",
    "\n",
    "Feel free to take a look at the output and whether the classes are balanced or imbalanced. "
   ]
  },
  {
   "cell_type": "code",
   "execution_count": 4,
   "id": "c152e8a4",
   "metadata": {
    "colab": {
     "base_uri": "https://localhost:8080/",
     "height": 515
    },
    "id": "c152e8a4",
    "outputId": "a2ba0476-3238-4511-fcf0-780508493f48"
   },
   "outputs": [
    {
     "data": {
      "image/png": "[encoded data removed]",
      "text/plain": [
       "<Figure size 864x576 with 1 Axes>"
      ]
     },
     "metadata": {
      "needs_background": "light"
     },
     "output_type": "display_data"
    }
   ],
   "source": [
    "plt.figure(figsize = (12, 8))\n",
    "sns.countplot(x='sentiment', data=df)\n",
    "plt.title(\"Positive Vs. Negative reviews count\", fontsize = 15)\n",
    "plt.show()\n"
   ]
  },
  {
   "cell_type": "markdown",
   "id": "9b8549f2",
   "metadata": {
    "id": "9b8549f2"
   },
   "source": [
    "## Upsampling the minority class: (5 points)\n",
    "\n",
    "It is known that Naive bayes is not robust to class imbalance. It could be seen above that the data is little imbalanced. Therefore, class balancing can be done before giving it to the Naive Bayes model for prediction. \n",
    "\n",
    "Feel free to use 'resample' library from sklearn. "
   ]
  },
  {
   "cell_type": "code",
   "execution_count": 5,
   "id": "yHJTAqrW7XMN",
   "metadata": {
    "id": "yHJTAqrW7XMN"
   },
   "outputs": [],
   "source": [
    "## hint: use resample from sklearn.utils\n",
    "from sklearn.utils import resample\n",
    "\n",
    "df_majority = df.drop(df[df['sentiment'] == 'negative'].index)\n",
    "df_minority = df.drop(df[df['sentiment'] == 'positive'].index)\n",
    "\n",
    "negative_upsample = resample(df_minority, replace = True, \n",
    "                        n_samples = df_majority.shape[0],\n",
    "                        random_state = 101)\n",
    "\n",
    "df_upsampled = pd.concat([df_majority, negative_upsample])  # concat two data frames i,e majority class data set and upsampled minority class data set\n",
    "df_upsampled = df_upsampled.sample(frac = 1)"
   ]
  },
  {
   "cell_type": "code",
   "execution_count": 6,
   "id": "realistic-saskatchewan",
   "metadata": {},
   "outputs": [
    {
     "data": {
      "text/plain": [
       "(12474, 2)"
      ]
     },
     "execution_count": 6,
     "metadata": {},
     "output_type": "execute_result"
    }
   ],
   "source": [
    "negative_upsample.shape"
   ]
  },
  {
   "cell_type": "markdown",
   "id": "6f8bf6e7",
   "metadata": {
    "id": "6f8bf6e7"
   },
   "source": [
    "### Expected Output : \n",
    "(12474, 2)"
   ]
  },
  {
   "cell_type": "code",
   "execution_count": 7,
   "id": "bdea8155",
   "metadata": {
    "colab": {
     "base_uri": "https://localhost:8080/"
    },
    "id": "bdea8155",
    "outputId": "c665c4b9-826e-4f4e-e30e-06e0935a0622"
   },
   "outputs": [
    {
     "data": {
      "text/plain": [
       "(12474, 2)"
      ]
     },
     "execution_count": 7,
     "metadata": {},
     "output_type": "execute_result"
    }
   ],
   "source": [
    "## Ensure that the same number of data points are present for both 'positive' and 'negative' data\n",
    "\n",
    "# print the shape of data set with the help of shape function having \"positive\" as class label\n",
    "df_majority.shape"
   ]
  },
  {
   "cell_type": "markdown",
   "id": "626f01d5",
   "metadata": {
    "id": "626f01d5"
   },
   "source": [
    "### Expected Output : \n",
    "(12474, 2)"
   ]
  },
  {
   "cell_type": "code",
   "execution_count": 8,
   "id": "NoW5z6SzAeP8",
   "metadata": {
    "id": "NoW5z6SzAeP8"
   },
   "outputs": [],
   "source": [
    "## In this cell, we are going to be dividing the data into train and test points\n",
    "## Ensure that you store the upsampled data in a variable called 'df_upsampled' \n",
    "## so that the below operations are performed successfully\n",
    "\n",
    "\n",
    "## Considering 10000 positive and 10000 negative data points\n",
    "negative_data_points_train = df_upsampled[df_upsampled['sentiment'] == 'negative'].iloc[:10000]\n",
    "positive_data_points_train = df_upsampled[df_upsampled['sentiment'] == 'positive'].iloc[:10000]\n",
    "\n",
    "## Considering the remaining data points for test\n",
    "negative_data_points_test = df_upsampled[df_upsampled['sentiment'] == 'negative'].iloc[10000:]\n",
    "positive_data_points_test = df_upsampled[df_upsampled['sentiment'] == 'positive'].iloc[10000:]\n",
    "\n",
    "## Concatenate the training positive and negative reviews\n",
    "X_train = pd.concat([negative_data_points_train['review'], positive_data_points_train['review']])\n",
    "## Concatenating the training positive and negative outputs\n",
    "y_train = pd.concat([negative_data_points_train['sentiment'], positive_data_points_train['sentiment']])\n",
    "\n",
    "## Concatenating the test positive and negative reviews\n",
    "X_test = pd.concat([negative_data_points_test['review'], positive_data_points_test['review']])\n",
    "## Concatenating the test positive and negative outputs\n",
    "y_test = pd.concat([negative_data_points_test['sentiment'], positive_data_points_test['sentiment']])\n"
   ]
  },
  {
   "cell_type": "code",
   "execution_count": 9,
   "id": "6428047d",
   "metadata": {
    "colab": {
     "base_uri": "https://localhost:8080/"
    },
    "id": "6428047d",
    "outputId": "10d10601-0ce0-4688-c4d3-75fa386583fd"
   },
   "outputs": [
    {
     "data": {
      "text/plain": [
       "negative    10000\n",
       "positive    10000\n",
       "Name: sentiment, dtype: int64"
      ]
     },
     "execution_count": 9,
     "metadata": {},
     "output_type": "execute_result"
    }
   ],
   "source": [
    "## Take a look at the total number of classes and their count using '.value_counts()' for y_train and y_test.\n",
    "## Ensure that there are equal number of positive and negative reviews. \n",
    "y_train.value_counts()"
   ]
  },
  {
   "cell_type": "markdown",
   "id": "7dfe6517",
   "metadata": {
    "id": "7dfe6517"
   },
   "source": [
    "### Expected Output:\n",
    "negative    10000<br>\n",
    "positive    10000<br>\n",
    "Name: sentiment, dtype: int64"
   ]
  },
  {
   "cell_type": "code",
   "execution_count": 10,
   "id": "2beae1d6",
   "metadata": {
    "colab": {
     "base_uri": "https://localhost:8080/"
    },
    "id": "2beae1d6",
    "outputId": "6896f930-6a1a-45db-b74c-d080c9aedd0c"
   },
   "outputs": [
    {
     "data": {
      "text/plain": [
       "negative    2474\n",
       "positive    2474\n",
       "Name: sentiment, dtype: int64"
      ]
     },
     "execution_count": 10,
     "metadata": {},
     "output_type": "execute_result"
    }
   ],
   "source": [
    "y_test.value_counts()"
   ]
  },
  {
   "cell_type": "markdown",
   "id": "9163f897",
   "metadata": {
    "id": "9163f897"
   },
   "source": [
    "### Expected Output : \n",
    "negative    2474<br>\n",
    "positive    2474<br>\n",
    "Name: sentiment, dtype: int64"
   ]
  },
  {
   "cell_type": "markdown",
   "id": "6501699b",
   "metadata": {
    "id": "6501699b"
   },
   "source": [
    "## Q1. Pre-process the reviews: (10 points)\n",
    "\n",
    "We know that a review contains links, punctuation, stopwords and many other words that don't give a lot of meaning for the Naive Bayes model for prediction. \n",
    "\n",
    "In the cell below, one must implement text-preprocessing and remove links, punctuations and stopwords. It is also important to lowercase the letters so that 'Admire' and 'admire' are not treated as different words. \n",
    "\n",
    "In addition to this, perform stemming operation so that similar words are reduced. To know more about stemming, feel free to take a look at this link.\n",
    "\n",
    "https://nlp.stanford.edu/IR-book/html/htmledition/stemming-and-lemmatization-1.html"
   ]
  },
  {
   "cell_type": "code",
   "execution_count": 11,
   "id": "CirLN9-ddQ1r",
   "metadata": {
    "id": "CirLN9-ddQ1r"
   },
   "outputs": [],
   "source": [
    "# TASK CELL\n",
    "\n",
    "def clean_review(review):\n",
    "    '''\n",
    "    Input:\n",
    "        review: a string containing a review.\n",
    "    Output:\n",
    "        review_cleaned: a processed review. \n",
    "\n",
    "    '''\n",
    "    temp = list()\n",
    "    ps = PorterStemmer()\n",
    "    # remove links\n",
    "    new_review = re.sub('http[s]?://(?:[a-zA-Z]|[0-9]|[$-_@.&+#]|[!*\\(\\),]|''(?:%[0-9a-fA-F][0-9a-fA-F]))+','', review)\n",
    "    # remove html code\n",
    "    new_review = re.sub('<.*?>', '', review)\n",
    "    # word token\n",
    "    tokens = word_tokenize(re.sub(r'[^\\w\\s]','',new_review).lower())\n",
    "    # remove stopwords\n",
    "    tokens_cleaned = [token for token in tokens if token not in stopwords.words('english')]\n",
    "    for token in tokens_cleaned:\n",
    "        stem = ps.stem(token)\n",
    "        stem = stem.lower()\n",
    "        \n",
    "        temp.append(stem)\n",
    "    review_cleaned = ' '.join(temp)\n",
    "\n",
    "    return review_cleaned"
   ]
  },
  {
   "cell_type": "markdown",
   "id": "a7632fe5",
   "metadata": {
    "id": "a7632fe5"
   },
   "source": [
    "## Q2. Implement a find_occurrence function (5 points):\n",
    "\n",
    "In this function, we find the total occurrence of a word giving information such as label, word and frequency dictionary.\n",
    "\n",
    "Note that this function is used later in the code when we are going to be predicting the output using Naive Bayes. "
   ]
  },
  {
   "cell_type": "code",
   "execution_count": 12,
   "id": "eb282b81",
   "metadata": {
    "id": "eb282b81"
   },
   "outputs": [],
   "source": [
    "# TASK CELL\n",
    "def find_occurrence(frequency, word, label):\n",
    "    '''\n",
    "    Params:\n",
    "        frequency: a dictionary with the frequency of each pair (or tuple)\n",
    "        word: the word to look up\n",
    "        label: the label corresponding to the word\n",
    "    Return:\n",
    "        n: the number of times the word with its corresponding label appears.\n",
    "    '''\n",
    "    n = 0\n",
    "    if (word, label) in freqs:\n",
    "        n = frequency[(word, label)]\n",
    "    \n",
    "    return n"
   ]
  },
  {
   "cell_type": "markdown",
   "id": "29a2249d",
   "metadata": {
    "id": "29a2249d"
   },
   "source": [
    "### Converting output to numerical format:\n",
    "\n",
    "We have outputs as 'positive' or 'negative'. In the cell below, we convert it to a numerical format. "
   ]
  },
  {
   "cell_type": "code",
   "execution_count": 13,
   "id": "bcdc2b2c",
   "metadata": {
    "id": "bcdc2b2c"
   },
   "outputs": [],
   "source": [
    "## With the use of mapping function, we replace\n",
    "## the label in the form of string to an integer. \n",
    "\n",
    "output_map = {'positive': 0, 'negative': 1}\n",
    "y_train = y_train.map(output_map)\n",
    "y_test = y_test.map(output_map)"
   ]
  },
  {
   "cell_type": "code",
   "execution_count": 14,
   "id": "3dde0bbd",
   "metadata": {
    "colab": {
     "base_uri": "https://localhost:8080/"
    },
    "id": "3dde0bbd",
    "outputId": "223dfbc1-8efe-4183-b6d7-c9cb025cb285"
   },
   "outputs": [
    {
     "data": {
      "text/plain": [
       "1    10000\n",
       "0    10000\n",
       "Name: sentiment, dtype: int64"
      ]
     },
     "execution_count": 14,
     "metadata": {},
     "output_type": "execute_result"
    }
   ],
   "source": [
    "## Ensuring that there are equal number of classes on the training data. \n",
    "y_train.value_counts()"
   ]
  },
  {
   "cell_type": "code",
   "execution_count": 15,
   "id": "f2959b85",
   "metadata": {
    "colab": {
     "base_uri": "https://localhost:8080/",
     "height": 178
    },
    "id": "f2959b85",
    "outputId": "e514214b-cd57-43fc-875d-1821ddab63f8"
   },
   "outputs": [
    {
     "data": {
      "text/plain": [
       "\"The Good Earth is not a great film by any means, it is way to ordinary. Maybe it was different in the 1930's but who would want to see the life of a farmer. It is not very interesting to me. Yes, Luis Rainer and Paul Muni do an excellent job acting but the film dragged on way too long. I could have told you the ending of this movie by the first act. In short Wang Lung (Muni) a small time farmer who does not want to be like his own father turns out exactly like him. Both falling in love with their wives just as they are on their death beds. The film does a complete 360 going from one generation to the next. Also this film did not have any good character actors or funny moments, it just was depressing stuff about lasting as a farmer during a time of crisis.\""
      ]
     },
     "execution_count": 15,
     "metadata": {},
     "output_type": "execute_result"
    }
   ],
   "source": [
    "## Choosing a random review and taking a look at it.\n",
    "X_train.iloc[0]"
   ]
  },
  {
   "cell_type": "markdown",
   "id": "ed5e43c9",
   "metadata": {
    "id": "ed5e43c9"
   },
   "source": [
    "From the above cell output, it could be seen that there are a lot of words that don't add a lot of meaning to the text. \n",
    "\n",
    "Therefore, those words would be removed. It also reduces the computation time. \n",
    "\n",
    "Therefore, it is a good practice we are following."
   ]
  },
  {
   "cell_type": "code",
   "execution_count": 16,
   "id": "ad3937ea",
   "metadata": {
    "colab": {
     "base_uri": "https://localhost:8080/"
    },
    "id": "ad3937ea",
    "outputId": "68985efe-32cd-4c11-ed5b-2e1e1b297e73",
    "scrolled": false
   },
   "outputs": [
    {
     "name": "stdout",
     "output_type": "stream",
     "text": [
      "good earth great film mean way ordinari mayb differ 1930 would want see life farmer interest ye lui rainer paul muni excel job act film drag way long could told end movi first act short wang lung muni small time farmer want like father turn exactli like fall love wive death bed film complet 360 go one gener next also film good charact actor funni moment depress stuff last farmer time crisi\n"
     ]
    }
   ],
   "source": [
    "custom_review = X_train.iloc[0]\n",
    "\n",
    "# print cleaned review\n",
    "print(clean_review(custom_review))"
   ]
  },
  {
   "cell_type": "markdown",
   "id": "3e6cc440",
   "metadata": {
    "id": "3e6cc440"
   },
   "source": [
    "We now use this function to pre-process the review and remove words that don't add a lot of meaning in our model. "
   ]
  },
  {
   "cell_type": "markdown",
   "id": "5a762960",
   "metadata": {
    "id": "5a762960"
   },
   "source": [
    "## Q3. Implementing review counter function: (5 points)\n",
    "\n",
    "It is now time to implement the count function for the reviews. \n",
    "\n",
    "In this function, we count the occurrence of words and get the probabilities \n",
    "for the words based on the training data. \n",
    "\n",
    "In other words, we get the probability of occurrence of a word, given that the output is 'positive'.\n",
    "\n",
    "Similarly, we also compute the probability of occurence of a word, given that the output is 'negative'.\n",
    "\n"
   ]
  },
  {
   "cell_type": "code",
   "execution_count": 17,
   "id": "5de61f77",
   "metadata": {
    "id": "5de61f77"
   },
   "outputs": [],
   "source": [
    "# TASK CELL\n",
    "def review_counter(output_occurrence, reviews, positive_or_negative):\n",
    "    '''\n",
    "    Params:\n",
    "        output_occurrence: a dictionary that will be used to map each pair to its frequency\n",
    "        reviews: a list of reviews\n",
    "        positive_or_negative: a list corresponding to the sentiment of each review (either 0 or 1)\n",
    "    Return:\n",
    "        output: a dictionary mapping each pair to its frequency\n",
    "    '''\n",
    "    ## Steps :\n",
    "    # define the key, which is the word and label tuple\n",
    "    # if the key exists in the dictionary, increment the count\n",
    "    # else, if the key is new, add it to the dictionary and set the count to 1\n",
    "    \n",
    "    for label, review in zip(positive_or_negative, reviews):\n",
    "        split_review = clean_review(review).split()\n",
    "        for word in split_review:\n",
    "            # Your code here\n",
    "            key = (word, label)\n",
    "            if key not in output_occurrence:\n",
    "                output_occurrence[key] = 0\n",
    "            output_occurrence[key] += 1\n",
    "   \n",
    "    return output_occurrence\n",
    "   \n"
   ]
  },
  {
   "cell_type": "markdown",
   "id": "18238223",
   "metadata": {
    "id": "18238223"
   },
   "source": [
    "### Test your function with example reviews:\n",
    "\n",
    "Feel free to run the cell below and understand whether the above function that you have defined is producing the optimum results. "
   ]
  },
  {
   "cell_type": "code",
   "execution_count": 18,
   "id": "07a4c58a",
   "metadata": {
    "colab": {
     "base_uri": "https://localhost:8080/"
    },
    "id": "07a4c58a",
    "outputId": "dd9e148a-34a9-4cfe-9077-c5de33493d7a"
   },
   "outputs": [
    {
     "data": {
      "text/plain": [
       "{('got', 1): 1,\n",
       " ('bore', 1): 2,\n",
       " ('throught', 1): 1,\n",
       " ('moview', 1): 1,\n",
       " ('movi', 0): 2,\n",
       " ('fantast', 0): 1,\n",
       " ('watch', 1): 1,\n",
       " ('complet', 1): 1,\n",
       " ('wast', 1): 1,\n",
       " ('time', 1): 1,\n",
       " ('money', 1): 1,\n",
       " ('enjoy', 0): 1,\n",
       " ('fullest', 0): 1}"
      ]
     },
     "execution_count": 18,
     "metadata": {},
     "output_type": "execute_result"
    }
   ],
   "source": [
    "# Testing your function\n",
    "\n",
    "result = {}\n",
    "reviews = ['got bored throught the moview', 'The movie was fantastic', 'Will not watch it again', 'Was bored, it was a complete waste of time and money', 'Enjoyed the movie to the fullest']\n",
    "ys = [1, 0, 1, 1, 0]\n",
    "review_counter(result,reviews, ys)"
   ]
  },
  {
   "cell_type": "markdown",
   "id": "927f89bb",
   "metadata": {
    "id": "927f89bb"
   },
   "source": [
    "### Expected Output:\n",
    " {('bored', 1): 2, <br>\n",
    " ('complete', 1): 1, <br>\n",
    " ('enjoyed', 0): 1, <br>\n",
    " ('fantastic', 0): 1, <br>\n",
    " ('fullest', 0): 1, <br>\n",
    " ('got', 1): 1, <br>\n",
    " ('money', 1): 1, <br>\n",
    " ('movie', 0): 2, <br>\n",
    " ('moview', 1): 1, <br>\n",
    " ('throught', 1): 1, <br>\n",
    " ('time', 1): 1, <br>\n",
    " ('waste', 1): 1, <br>\n",
    " ('watch', 1): 1}"
   ]
  },
  {
   "cell_type": "code",
   "execution_count": 19,
   "id": "9bc62e13",
   "metadata": {
    "id": "9bc62e13"
   },
   "outputs": [],
   "source": [
    "# Build the freqs dictionary for later uses\n",
    "\n",
    "freqs = review_counter({}, X_train, y_train)"
   ]
  },
  {
   "cell_type": "code",
   "execution_count": null,
   "id": "0eddf420",
   "metadata": {
    "id": "0eddf420"
   },
   "outputs": [
    {
     "data": {
      "text/plain": [
       "{('south', 1): 181,\n",
       " ('african', 1): 89,\n",
       " ('live', 1): 1281,\n",
       " ('africa', 1): 73,\n",
       " ('32', 1): 7,\n",
       " ('year', 1): 2072,\n",
       " ('stay', 1): 491,\n",
       " ('uk', 1): 85,\n",
       " ('sorri', 1): 501,\n",
       " ('say', 1): 3224,\n",
       " ('movi', 1): 22504,\n",
       " ('huge', 1): 407,\n",
       " ('disappoint', 1): 936,\n",
       " ('three', 1): 835,\n",
       " ('main', 1): 1012,\n",
       " ('problem', 1): 1049,\n",
       " ('swank', 1): 8,\n",
       " ('ejiofor', 1): 2,\n",
       " ('american', 1): 866,\n",
       " ('nigerian', 1): 2,\n",
       " ('play', 1): 2796,\n",
       " ('lead', 1): 997,\n",
       " ('countri', 1): 278,\n",
       " ('burst', 1): 53,\n",
       " ('talent', 1): 686,\n",
       " ('need', 1): 1402,\n",
       " ('import', 1): 334,\n",
       " ('b', 1): 296,\n",
       " ('gillian', 1): 7,\n",
       " ('slovo', 1): 2,\n",
       " ('trade', 1): 52,\n",
       " ('struggl', 1): 214,\n",
       " ('credenti', 1): 4,\n",
       " ('she', 1): 547,\n",
       " ('mediocr', 1): 263,\n",
       " ('writer', 1): 661,\n",
       " ('even', 1): 6246,\n",
       " ('novel', 1): 411,\n",
       " ('doesnt', 1): 1992,\n",
       " ('stand', 1): 473,\n",
       " ('flaccid', 1): 5,\n",
       " ('direct', 1): 1479,\n",
       " ('mr', 1): 496,\n",
       " ('hooper', 1): 27,\n",
       " ('c', 1): 117,\n",
       " ('hilari', 1): 312,\n",
       " ('great', 1): 2102,\n",
       " ('actor', 1): 2714,\n",
       " ('prove', 1): 357,\n",
       " ('million', 1): 266,\n",
       " ('dollar', 1): 185,\n",
       " ('babi', 1): 261,\n",
       " ('that', 1): 1778,\n",
       " ('eastwood', 1): 38,\n",
       " ('dress', 1): 238,\n",
       " ('contemporari', 1): 67,\n",
       " ('new', 1): 1316,\n",
       " ('york', 1): 201,\n",
       " ('style', 1): 523,\n",
       " ('whilst', 1): 106,\n",
       " ('roam', 1): 17,\n",
       " ('freeli', 1): 13,\n",
       " ('around', 1): 1449,\n",
       " ('poverti', 1): 53,\n",
       " ('karoo', 1): 2,\n",
       " ('consider', 1): 94,\n",
       " ('sensit', 1): 57,\n",
       " ('costum', 1): 259,\n",
       " ('director', 1): 2004,\n",
       " ('ye', 1): 646,\n",
       " ('film', 1): 17099,\n",
       " ('ultim', 1): 215,\n",
       " ('move', 1): 777,\n",
       " ('could', 1): 3628,\n",
       " ('overal', 1): 449,\n",
       " ('mood', 1): 128,\n",
       " ('conclus', 1): 202,\n",
       " ('one', 1): 10337,\n",
       " ('tremend', 1): 43,\n",
       " ('letdown', 1): 21,\n",
       " ('heart', 1): 351,\n",
       " ('right', 1): 1281,\n",
       " ('place', 1): 1077,\n",
       " ('pace', 1): 388,\n",
       " ('maker', 1): 231,\n",
       " ('first', 1): 3177,\n",
       " ('must', 1): 1122,\n",
       " ('stress', 1): 63,\n",
       " ('rare', 1): 203,\n",
       " ('take', 1): 2543,\n",
       " ('time', 1): 5813,\n",
       " ('comment', 1): 619,\n",
       " ('seen', 1): 2582,\n",
       " ('special', 1): 969,\n",
       " ('case', 1): 653,\n",
       " ('write', 1): 943,\n",
       " ('felt', 1): 624,\n",
       " ('said', 1): 1025,\n",
       " ('hundr', 1): 152,\n",
       " ('watch', 1): 5868,\n",
       " ('brilliant', 1): 195,\n",
       " ('shawshank', 1): 8,\n",
       " ('scariest', 1): 14,\n",
       " ('woman', 1): 1071,\n",
       " ('black', 1): 867,\n",
       " ('funniest', 1): 61,\n",
       " ('shark', 1): 77,\n",
       " ('attack', 1): 407,\n",
       " ('iii', 1): 35,\n",
       " ('megaladon', 1): 2,\n",
       " ('worst', 1): 1853,\n",
       " ('vampir', 1): 348,\n",
       " ('vs', 1): 123,\n",
       " ('zombiesth', 1): 4,\n",
       " ('thing', 1): 3623,\n",
       " ('funni', 1): 1717,\n",
       " ('look', 1): 4577,\n",
       " ('light', 1): 562,\n",
       " ('fun', 1): 785,\n",
       " ('least', 1): 1567,\n",
       " ('bad', 1): 5718,\n",
       " ('elsewher', 1): 55,\n",
       " ('true', 1): 605,\n",
       " ('tri', 1): 3031,\n",
       " ('subtl', 1): 60,\n",
       " ('titl', 1): 722,\n",
       " ('know', 1): 3123,\n",
       " ('your', 1): 916,\n",
       " ('get', 1): 6041,\n",
       " ('excus', 1): 307,\n",
       " ('abandon', 1): 116,\n",
       " ('everi', 1): 1570,\n",
       " ('rule', 1): 162,\n",
       " ('govern', 1): 177,\n",
       " ('make', 1): 6182,\n",
       " ('world', 1): 1030,\n",
       " ('argument', 1): 77,\n",
       " ('tradit', 1): 118,\n",
       " ('process', 1): 116,\n",
       " ('newer', 1): 16,\n",
       " ('artsi', 1): 32,\n",
       " ('method', 1): 94,\n",
       " ('creat', 1): 518,\n",
       " ('compani', 1): 223,\n",
       " ('held', 1): 102,\n",
       " ('account', 1): 120,\n",
       " ('terribl', 1): 1300,\n",
       " ('moviesthi', 1): 4,\n",
       " ('suffer', 1): 308,\n",
       " ('use', 1): 2081,\n",
       " ('dont', 1): 4126,\n",
       " ('start', 1): 1810,\n",
       " ('truli', 1): 596,\n",
       " ('everyth', 1): 946,\n",
       " ('broken', 1): 122,\n",
       " ('act', 1): 4081,\n",
       " ('edit', 1): 589,\n",
       " ('reason', 1): 1567,\n",
       " ('ever', 1): 2472,\n",
       " ('fail', 1): 839,\n",
       " ('deliv', 1): 369,\n",
       " ('cohes', 1): 28,\n",
       " ('seri', 1): 896,\n",
       " ('event', 1): 406,\n",
       " ('zombi', 1): 724,\n",
       " ('follow', 1): 766,\n",
       " ('1', 1): 611,\n",
       " ('scene', 1): 4494,\n",
       " ('misfir', 1): 38,\n",
       " ('clear', 1): 365,\n",
       " ('camera', 1): 896,\n",
       " ('crew', 1): 320,\n",
       " ('page', 1): 109,\n",
       " ('particular', 1): 259,\n",
       " ('begin', 1): 1126,\n",
       " ('rest', 1): 813,\n",
       " ('ground', 1): 183,\n",
       " ('passeng', 1): 43,\n",
       " ('side', 1): 476,\n",
       " ('door', 1): 241,\n",
       " ('car', 1): 732,\n",
       " ('expect', 1): 1252,\n",
       " ('person', 1): 1202,\n",
       " ('insid', 1): 231,\n",
       " ('exagger', 1): 90,\n",
       " ('10', 1): 789,\n",
       " ('second', 1): 844,\n",
       " ('delay', 1): 15,\n",
       " ('come', 1): 2508,\n",
       " ('action', 1): 1264,\n",
       " ('anyth', 1): 1470,\n",
       " ('happen', 1): 1581,\n",
       " ('screen', 1): 981,\n",
       " ('viewer', 1): 734,\n",
       " ('left', 1): 931,\n",
       " ('stare', 1): 121,\n",
       " ('entir', 1): 880,\n",
       " ('sound', 1): 1039,\n",
       " ('movement', 1): 110,\n",
       " ('stereotyp', 1): 322,\n",
       " ('dead', 1): 858,\n",
       " ('air', 1): 270,\n",
       " ('radio', 1): 85,\n",
       " ('tv', 1): 1039,\n",
       " ('dread', 1): 223,\n",
       " ('2', 1): 1072,\n",
       " ('forgiv', 1): 86,\n",
       " ('offens', 1): 149,\n",
       " ('cant', 1): 1833,\n",
       " ('like', 1): 9506,\n",
       " ('oscar', 1): 152,\n",
       " ('winner', 1): 70,\n",
       " ('whole', 1): 1414,\n",
       " ('level', 1): 441,\n",
       " ('bare', 1): 399,\n",
       " ('abl', 1): 457,\n",
       " ('read', 1): 1238,\n",
       " ('script', 1): 1774,\n",
       " ('obvious', 1): 578,\n",
       " ('anyon', 1): 1131,\n",
       " ('abil', 1): 203,\n",
       " ('speak', 1): 437,\n",
       " ('would', 1): 5678,\n",
       " ('pronounc', 1): 22,\n",
       " ('line', 1): 1405,\n",
       " ('better', 1): 2559,\n",
       " ('fool', 1): 132,\n",
       " ('comparison', 1): 120,\n",
       " ('open', 1): 821,\n",
       " ('resid', 1): 86,\n",
       " ('evil', 1): 659,\n",
       " ('playstat', 1): 13,\n",
       " ('better3', 1): 2,\n",
       " ('stori', 1): 4168,\n",
       " ('wait', 1): 567,\n",
       " ('greatest', 1): 144,\n",
       " ('told', 1): 343,\n",
       " ('much', 1): 3849,\n",
       " ('ask', 1): 675,\n",
       " ('semblanc', 1): 21,\n",
       " ('narr', 1): 145,\n",
       " ('charact', 1): 5625,\n",
       " ('guy', 1): 2129,\n",
       " ('good', 1): 5784,\n",
       " ('lesbian', 1): 140,\n",
       " ('importantli', 1): 56,\n",
       " ('what', 1): 406,\n",
       " ('deal', 1): 487,\n",
       " ('understand', 1): 822,\n",
       " ('mean', 1): 1293,\n",
       " ('havent', 1): 290,\n",
       " ('ill', 1): 485,\n",
       " ('plain', 1): 363,\n",
       " ('asid', 1): 186,\n",
       " ('mayb', 1): 1085,\n",
       " ('five', 1): 389,\n",
       " ('minut', 1): 2024,\n",
       " ('almost', 1): 1253,\n",
       " ('forgot', 1): 111,\n",
       " ('name', 1): 1201,\n",
       " ('forc', 1): 638,\n",
       " ('throw', 1): 318,\n",
       " ('without', 1): 1283,\n",
       " ('explan', 1): 171,\n",
       " ('endther', 1): 3,\n",
       " ('hope', 1): 976,\n",
       " ('ive', 1): 1292,\n",
       " ('done', 1): 1136,\n",
       " ('enough', 1): 1548,\n",
       " ('keep', 1): 872,\n",
       " ('see', 1): 5043,\n",
       " ('saw', 1): 1107,\n",
       " ('trailer', 1): 180,\n",
       " ('comeback', 1): 36,\n",
       " ('absolut', 1): 886,\n",
       " ('horribl', 1): 1042,\n",
       " ('interest', 1): 1867,\n",
       " ('came', 1): 657,\n",
       " ('dvd', 1): 780,\n",
       " ('today', 1): 290,\n",
       " ('figur', 1): 498,\n",
       " ('sinc', 1): 1073,\n",
       " ('noth', 1): 2347,\n",
       " ('els', 1): 958,\n",
       " ('caught', 1): 186,\n",
       " ('rent', 1): 672,\n",
       " ('give', 1): 2191,\n",
       " ('shot', 1): 1277,\n",
       " ('tonit', 1): 6,\n",
       " ('realli', 1): 4995,\n",
       " ('wasnt', 1): 1115,\n",
       " ('think', 1): 3502,\n",
       " ('immatur', 1): 38,\n",
       " ('stupid', 1): 1272,\n",
       " ('moment', 1): 935,\n",
       " ('made', 1): 3366,\n",
       " ('laugh', 1): 1363,\n",
       " ('mani', 1): 2317,\n",
       " ('sport', 1): 108,\n",
       " ('wonder', 1): 976,\n",
       " ('sens', 1): 969,\n",
       " ('still', 1): 1764,\n",
       " ('didnt', 1): 2081,\n",
       " ('mind', 1): 834,\n",
       " ('admit', 1): 300,\n",
       " ('spoof', 1): 145,\n",
       " ('lame', 1): 497,\n",
       " ('harm', 1): 32,\n",
       " ('joke', 1): 814,\n",
       " ('isnt', 1): 1522,\n",
       " ('fair', 1): 226,\n",
       " ('chancecoach', 1): 4,\n",
       " ('field', 1): 128,\n",
       " ('life', 1): 1653,\n",
       " ('famili', 1): 874,\n",
       " ('career', 1): 407,\n",
       " ('offer', 1): 402,\n",
       " ('chanc', 1): 363,\n",
       " ('bring', 1): 580,\n",
       " ('back', 1): 1850,\n",
       " ('looser', 1): 8,\n",
       " ('footbal', 1): 102,\n",
       " ('team', 1): 303,\n",
       " ('championship', 1): 24,\n",
       " ('beyond', 1): 451,\n",
       " ('littl', 1): 2332,\n",
       " ('work', 1): 2400,\n",
       " ('effort', 1): 514,\n",
       " ('though', 1): 1644,\n",
       " ('might', 1): 1275,\n",
       " ('turn', 1): 1534,\n",
       " ('someth', 1): 2255,\n",
       " ('sadth', 1): 5,\n",
       " ('coupl', 1): 816,\n",
       " ('giggl', 1): 58,\n",
       " ('couldnt', 1): 876,\n",
       " ('help', 1): 967,\n",
       " ('coach', 1): 61,\n",
       " ('middl', 1): 354,\n",
       " ('fight', 1): 810,\n",
       " ('locker', 1): 23,\n",
       " ('room', 1): 364,\n",
       " ('he', 1): 1147,\n",
       " ('beat', 1): 198,\n",
       " ('nerd', 1): 92,\n",
       " ('head', 1): 879,\n",
       " ('gener', 1): 863,\n",
       " ('togeth', 1): 764,\n",
       " ('serious', 1): 491,\n",
       " ('youll', 1): 483,\n",
       " ('worthi', 1): 102,\n",
       " ('materi', 1): 330,\n",
       " ('you410', 1): 4,\n",
       " ('daili', 1): 61,\n",
       " ('mail', 1): 36,\n",
       " ('christoph', 1): 130,\n",
       " ('tookey', 1): 12,\n",
       " ('choic', 1): 217,\n",
       " ('among', 1): 232,\n",
       " ('way', 1): 3224,\n",
       " ('82', 1): 14,\n",
       " ('miser', 1): 145,\n",
       " ('guarante', 1): 66,\n",
       " ('shake', 1): 123,\n",
       " ('descend', 1): 44,\n",
       " ('testifi', 1): 11,\n",
       " ('utter', 1): 190,\n",
       " ('cynic', 1): 72,\n",
       " ('tasteless', 1): 56,\n",
       " ('moral', 1): 225,\n",
       " ('corrupt', 1): 86,\n",
       " ('commiss', 1): 24,\n",
       " ('british', 1): 255,\n",
       " ('abomin', 1): 73,\n",
       " ('continu', 1): 461,\n",
       " ('aim', 1): 139,\n",
       " ('squar', 1): 64,\n",
       " ('oaf', 1): 8,\n",
       " ('unwash', 1): 13,\n",
       " ('underwear', 1): 41,\n",
       " ('filthi', 1): 23,\n",
       " ('knuckl', 1): 4,\n",
       " ('graze', 1): 5,\n",
       " ('pavement', 1): 10,\n",
       " ('walk', 1): 628,\n",
       " ('sex', 1): 780,\n",
       " ('comedi', 1): 1328,\n",
       " ('sordid', 1): 18,\n",
       " ('unfunni', 1): 186,\n",
       " ('malodor', 1): 4,\n",
       " ('put', 1): 1365,\n",
       " ('inde', 1): 244,\n",
       " ('conclud', 1): 62,\n",
       " ('potato', 1): 22,\n",
       " ('men', 1): 678,\n",
       " ('mere', 1): 207,\n",
       " ('vile', 1): 40,\n",
       " ('symptomat', 1): 8,\n",
       " ('nation', 1): 170,\n",
       " ('cultur', 1): 209,\n",
       " ('instant', 1): 34,\n",
       " ('selfgratif', 1): 4,\n",
       " ('yobbish', 1): 4,\n",
       " ('sadism', 1): 16,\n",
       " ('celebr', 1): 90,\n",
       " ('normal', 1): 267,\n",
       " ('listen', 1): 206,\n",
       " ('close', 1): 624,\n",
       " ('critic', 1): 341,\n",
       " ('bang', 1): 44,\n",
       " ('money', 1): 1195,\n",
       " ('goe', 1): 964,\n",
       " ('enter', 1): 214,\n",
       " ('bizarr', 1): 214,\n",
       " ('parallel', 1): 36,\n",
       " ('univers', 1): 205,\n",
       " ('pain', 1): 520,\n",
       " ('drag', 1): 276,\n",
       " ('hour', 1): 989,\n",
       " ('definit', 1): 512,\n",
       " ('seem', 1): 3334,\n",
       " ('twt', 1): 4,\n",
       " ('brummi', 1): 6,\n",
       " ('accent', 1): 350,\n",
       " ('depress', 1): 223,\n",
       " ('half', 1): 947,\n",
       " ('brain', 1): 259,\n",
       " ('grew', 1): 86,\n",
       " ('goodi', 1): 32,\n",
       " ('monti', 1): 33,\n",
       " ('python', 1): 33,\n",
       " ('spit', 1): 65,\n",
       " ('imag', 1): 290,\n",
       " ('nine', 1): 42,\n",
       " ('oclock', 1): 10,\n",
       " ('news', 1): 124,\n",
       " ('fawlti', 1): 16,\n",
       " ('towersid', 1): 4,\n",
       " ('quietli', 1): 36,\n",
       " ('vanish', 1): 54,\n",
       " ('cinema', 1): 458,\n",
       " ('releas', 1): 625,\n",
       " ('join', 1): 117,\n",
       " ('equal', 1): 219,\n",
       " ('dire', 1): 65,\n",
       " ('vix', 1): 4,\n",
       " ('spinoff', 1): 16,\n",
       " ('fat', 1): 168,\n",
       " ('slag', 1): 5,\n",
       " ('2004', 1): 49,\n",
       " ('illstar', 1): 4,\n",
       " ('saint', 1): 41,\n",
       " ('vehicl', 1): 135,\n",
       " ('honest', 1): 178,\n",
       " ('2000', 1): 75,\n",
       " ('celluloid', 1): 70,\n",
       " ('graveyard', 1): 26,\n",
       " ('destin', 1): 35,\n",
       " ('endless', 1): 143,\n",
       " ('late', 1): 352,\n",
       " ('night', 1): 836,\n",
       " ('schedulefil', 1): 4,\n",
       " ('misguid', 1): 46,\n",
       " ('best', 1): 1622,\n",
       " ('rave', 1): 58,\n",
       " ('peopl', 1): 3721,\n",
       " ('apologis', 1): 10,\n",
       " ('advanc', 1): 86,\n",
       " ('wrong', 1): 900,\n",
       " ('industri', 1): 174,\n",
       " ('wisdom', 1): 25,\n",
       " ('inflict', 1): 29,\n",
       " ('onto', 1): 151,\n",
       " ('undeserv', 1): 15,\n",
       " ('actual', 1): 2316,\n",
       " ('rememb', 1): 647,\n",
       " ('wasbut', 1): 7,\n",
       " ('god', 1): 607,\n",
       " ('wit', 1): 231,\n",
       " ('worseact', 1): 4,\n",
       " ('finish', 1): 349,\n",
       " ('mention', 1): 694,\n",
       " ('mackenzi', 1): 11,\n",
       " ('albert', 1): 49,\n",
       " ('stepto', 1): 5,\n",
       " ('leg', 1): 145,\n",
       " ('young', 1): 1028,\n",
       " ('man', 1): 1832,\n",
       " ('bodi', 1): 573,\n",
       " ('crooksoundtrack', 1): 4,\n",
       " ('cut', 1): 690,\n",
       " ('past', 1): 435,\n",
       " ('ladrock', 1): 4,\n",
       " ('mostli', 1): 382,\n",
       " ('skabas', 1): 4,\n",
       " ('lagerloutfriendli', 1): 4,\n",
       " ('pub', 1): 28,\n",
       " ('jukebox', 1): 4,\n",
       " ('piffl', 1): 5,\n",
       " ('brought', 1): 244,\n",
       " ('memori', 1): 189,\n",
       " ('chirpi', 1): 4,\n",
       " ('cockerne', 1): 4,\n",
       " ('doin', 1): 9,\n",
       " ('lambeth', 1): 4,\n",
       " ('watereddown', 1): 11,\n",
       " ('imit', 1): 109,\n",
       " ('knobshin', 1): 4,\n",
       " ('mad', 1): 231,\n",
       " ('singl', 1): 400,\n",
       " ('varieti', 1): 55,\n",
       " ('programm', 1): 50,\n",
       " ('eightiesand', 1): 4,\n",
       " ('ace', 1): 34,\n",
       " ('spade', 1): 27,\n",
       " ('motorhead', 1): 4,\n",
       " ('music', 1): 1170,\n",
       " ('helltri', 1): 4,\n",
       " ('evok', 1): 41,\n",
       " ('genuin', 1): 146,\n",
       " ('excit', 1): 365,\n",
       " ('show', 1): 3289,\n",
       " ('cheap', 1): 561,\n",
       " ('beltscript', 1): 4,\n",
       " ('written', 1): 535,\n",
       " ('12', 1): 212,\n",
       " ('old', 1): 1488,\n",
       " ('who', 1): 252,\n",
       " ('issu', 1): 246,\n",
       " ('smut', 1): 20,\n",
       " ('zit', 1): 4,\n",
       " ('long', 1): 1289,\n",
       " ('red', 1): 261,\n",
       " ('bullfuel', 1): 4,\n",
       " ('sessionsur', 1): 4,\n",
       " ('cmon', 1): 22,\n",
       " ('real', 1): 1673,\n",
       " ('proper', 1): 114,\n",
       " ('worldli', 1): 8,\n",
       " ('grownup', 1): 14,\n",
       " ('possibl', 1): 834,\n",
       " ('set', 1): 1445,\n",
       " ('kind', 1): 1354,\n",
       " ('retard', 1): 132,\n",
       " ('hogwash', 1): 9,\n",
       " ('paper', 1): 141,\n",
       " ('mark', 1): 288,\n",
       " ('gatiss', 1): 4,\n",
       " ('itmark', 1): 4,\n",
       " ('gatissth', 1): 4,\n",
       " ('annoy', 1): 677,\n",
       " ('member', 1): 337,\n",
       " ('leagu', 1): 51,\n",
       " ('gentlemen', 1): 15,\n",
       " ('fan', 1): 1243,\n",
       " ('part', 1): 1983,\n",
       " ('tower', 1): 64,\n",
       " ('heap', 1): 39,\n",
       " ('flyblown', 1): 5,\n",
       " ('cinemat', 1): 179,\n",
       " ('excrement', 1): 28,\n",
       " ('brightest', 1): 10,\n",
       " ('star', 1): 1510,\n",
       " ('subject', 1): 366,\n",
       " ('somebodi', 1): 129,\n",
       " ('pair', 1): 149,\n",
       " ('leadlin', 1): 4,\n",
       " ('diver', 1): 18,\n",
       " ('boot', 1): 63,\n",
       " ('steve', 1): 236,\n",
       " ('face', 1): 788,\n",
       " ('collaps', 1): 29,\n",
       " ('rectum', 1): 5,\n",
       " ('pemberton', 1): 4,\n",
       " ('weekend', 1): 84,\n",
       " ('soundproof', 1): 4,\n",
       " ('diepleasecinema', 1): 4,\n",
       " ('otherwis', 1): 338,\n",
       " ('wors', 1): 975,\n",
       " ('kent', 1): 40,\n",
       " ('bateman', 1): 6,\n",
       " ('headless', 1): 12,\n",
       " ('eye', 1): 638,\n",
       " ('1971', 1): 17,\n",
       " ('newwav', 1): 6,\n",
       " ('masterpiec', 1): 156,\n",
       " ('compar', 1): 403,\n",
       " ('repugn', 1): 10,\n",
       " ('hate', 1): 590,\n",
       " ('zangief', 1): 3,\n",
       " ('amus', 1): 266,\n",
       " ('anim', 1): 615,\n",
       " ('quit', 1): 1323,\n",
       " ('produc', 1): 836,\n",
       " ('often', 1): 503,\n",
       " ('inconsist', 1): 73,\n",
       " ('although', 1): 730,\n",
       " ('consist', 1): 275,\n",
       " ('shape', 1): 73,\n",
       " ('capabl', 1): 106,\n",
       " ('drastic', 1): 16,\n",
       " ('chang', 1): 689,\n",
       " ('voic', 1): 480,\n",
       " ('also', 1): 2820,\n",
       " ('leav', 1): 860,\n",
       " ('desir', 1): 121,\n",
       " ('cast', 1): 1671,\n",
       " ('third', 1): 223,\n",
       " ('grade', 1): 170,\n",
       " ('drama', 1): 419,\n",
       " ('cammi', 1): 2,\n",
       " ('dj', 1): 15,\n",
       " ('episod', 1): 720,\n",
       " ('contain', 1): 291,\n",
       " ('physic', 1): 184,\n",
       " ('regular', 1): 95,\n",
       " ('basi', 1): 51,\n",
       " ('anyway', 1): 439,\n",
       " ('plot', 1): 3342,\n",
       " ('strive', 1): 15,\n",
       " ('reach', 1): 197,\n",
       " ('full', 1): 577,\n",
       " ('hole', 1): 262,\n",
       " ('amaz', 1): 325,\n",
       " ('commerci', 1): 144,\n",
       " ('truth', 1): 251,\n",
       " ('wold', 1): 2,\n",
       " ('pay', 1): 394,\n",
       " ('advertis', 1): 99,\n",
       " ('addit', 1): 176,\n",
       " ('adapt', 1): 309,\n",
       " ('street', 1): 286,\n",
       " ('fighter', 1): 78,\n",
       " ('maintain', 1): 45,\n",
       " ('exampl', 1): 685,\n",
       " ('includ', 1): 749,\n",
       " ('ken', 1): 46,\n",
       " ('ryu', 1): 4,\n",
       " ('idiot', 1): 345,\n",
       " ('con', 1): 45,\n",
       " ('suppos', 1): 1084,\n",
       " ('rich', 1): 201,\n",
       " ('blanka', 1): 2,\n",
       " ('guil', 1): 2,\n",
       " ('friend', 1): 1179,\n",
       " ('charli', 1): 143,\n",
       " ('chun', 1): 2,\n",
       " ('li', 1): 31,\n",
       " ('report', 1): 186,\n",
       " ('creatur', 1): 337,\n",
       " ('unknown', 1): 113,\n",
       " ('word', 1): 718,\n",
       " ('call', 1): 1191,\n",
       " ('piec', 1): 891,\n",
       " ('crap', 1): 634,\n",
       " ('pathet', 1): 327,\n",
       " ('soso', 1): 30,\n",
       " ('effect', 1): 1564,\n",
       " ('thirtysometh', 1): 6,\n",
       " ('postteen', 1): 2,\n",
       " ('trap', 1): 150,\n",
       " ('wood', 1): 270,\n",
       " ('reptilian', 1): 9,\n",
       " ('rubbersuit', 1): 2,\n",
       " ('lurk', 1): 35,\n",
       " ('endlessli', 1): 28,\n",
       " ('bunch', 1): 472,\n",
       " ('talk', 1): 896,\n",
       " ('preciou', 1): 71,\n",
       " ('girl', 1): 1589,\n",
       " ('heavi', 1): 166,\n",
       " ('mascara', 1): 8,\n",
       " ('boringth', 1): 11,\n",
       " ('throughout', 1): 492,\n",
       " ('shown', 1): 334,\n",
       " ('pictur', 1): 641,\n",
       " ('distort', 1): 48,\n",
       " ('mask', 1): 183,\n",
       " ('fact', 1): 1569,\n",
       " ('rubber', 1): 70,\n",
       " ('suit', 1): 204,\n",
       " ('henc', 1): 77,\n",
       " ('blur', 1): 25,\n",
       " ('prais', 1): 108,\n",
       " ('pick', 1): 465,\n",
       " ('stupefi', 1): 6,\n",
       " ('skip', 1): 201,\n",
       " ('certain', 1): 255,\n",
       " ('well', 1): 3036,\n",
       " ('guess', 1): 762,\n",
       " ('emperor', 1): 69,\n",
       " ('cloth', 1): 203,\n",
       " ('list', 1): 307,\n",
       " ('pb', 1): 9,\n",
       " ('last', 1): 1188,\n",
       " ('apprehens', 1): 3,\n",
       " ('love', 1): 2155,\n",
       " ('mors', 1): 13,\n",
       " ('go', 1): 3842,\n",
       " ('far', 1): 1145,\n",
       " ('buy', 1): 406,\n",
       " ('complet', 1): 1478,\n",
       " ('alway', 1): 925,\n",
       " ('kevin', 1): 124,\n",
       " ('whate', 1): 1,\n",
       " ('sgt', 1): 5,\n",
       " ('lewi', 1): 72,\n",
       " ('john', 1): 706,\n",
       " ('thaw', 1): 2,\n",
       " ('period', 1): 280,\n",
       " ('inspector', 1): 65,\n",
       " ('bill', 1): 227,\n",
       " ('convinc', 1): 405,\n",
       " ('rightwhat', 1): 1,\n",
       " ('fine', 1): 346,\n",
       " ('aw', 1): 1225,\n",
       " ('badli', 1): 397,\n",
       " ('age', 1): 465,\n",
       " ('simpli', 1): 847,\n",
       " ('charisma', 1): 47,\n",
       " ('carri', 1): 383,\n",
       " ('thawand', 1): 1,\n",
       " ('sidekick', 1): 53,\n",
       " ('fox', 1): 71,\n",
       " ('wellperhap', 1): 1,\n",
       " ('review', 1): 1005,\n",
       " ('england', 1): 73,\n",
       " ('nota', 1): 2,\n",
       " ('ms', 1): 117,\n",
       " ('innocental', 1): 1,\n",
       " ('miss', 1): 894,\n",
       " ('jame', 1): 267,\n",
       " ('groutim', 1): 1,\n",
       " ('peac', 1): 84,\n",
       " ('number', 1): 453,\n",
       " ('blunder', 1): 15,\n",
       " ('militarili', 1): 3,\n",
       " ('strateg', 1): 10,\n",
       " ('turkey', 1): 140,\n",
       " ('beaten', 1): 36,\n",
       " ('mess', 1): 494,\n",
       " ('soldier', 1): 243,\n",
       " ('2star', 1): 1,\n",
       " ('given', 1): 769,\n",
       " ('advic', 1): 135,\n",
       " ('lieuten', 1): 21,\n",
       " ('accept', 1): 277,\n",
       " ('unquestion', 1): 10,\n",
       " ('map', 1): 33,\n",
       " ('lt', 1): 9,\n",
       " ('enemi', 1): 135,\n",
       " ('posit', 1): 374,\n",
       " ('appar', 1): 623,\n",
       " ('narrow', 1): 26,\n",
       " ('valley', 1): 42,\n",
       " ('battalion', 1): 5,\n",
       " ('dozen', 1): 124,\n",
       " ('rear', 1): 40,\n",
       " ('guard', 1): 104,\n",
       " ('clearli', 1): 358,\n",
       " ('spot', 1): 211,\n",
       " ('expos', 1): 99,\n",
       " ('pound', 1): 52,\n",
       " ('hero', 1): 548,\n",
       " ('high', 1): 738,\n",
       " ('superior', 1): 104,\n",
       " ('fire', 1): 425,\n",
       " ('power', 1): 565,\n",
       " ('differ', 1): 913,\n",
       " ('tank', 1): 60,\n",
       " ('near', 1): 270,\n",
       " ('end', 1): 3603,\n",
       " ('refer', 1): 286,\n",
       " ('armor', 1): 49,\n",
       " ('divis', 1): 12,\n",
       " ('proceed', 1): 70,\n",
       " ('solitari', 1): 6,\n",
       " ('infantri', 1): 3,\n",
       " ('point', 1): 1735,\n",
       " ('extrem', 1): 661,\n",
       " ('slowli', 1): 134,\n",
       " ('cover', 1): 432,\n",
       " ('scout', 1): 11,\n",
       " ('area', 1): 195,\n",
       " ('waiv', 1): 2,\n",
       " ('deem', 1): 12,\n",
       " ('save', 1): 899,\n",
       " ('cave', 1): 100,\n",
       " ('ice', 1): 99,\n",
       " ('deep', 1): 203,\n",
       " ('snow', 1): 80,\n",
       " ('yard', 1): 49,\n",
       " ('entranc', 1): 15,\n",
       " ('puddl', 1): 10,\n",
       " ('wade', 1): 20,\n",
       " ('repeatedli', 1): 59,\n",
       " ('feet', 1): 120,\n",
       " ('freez', 1): 28,\n",
       " ('later', 1): 737,\n",
       " ('survivor', 1): 64,\n",
       " ('chest', 1): 88,\n",
       " ('river', 1): 114,\n",
       " ('return', 1): 391,\n",
       " ('unit', 1): 105,\n",
       " ('winter', 1): 50,\n",
       " ('frozen', 1): 39,\n",
       " ('yeah', 1): 212,\n",
       " ('rightand', 1): 3,\n",
       " ('yell', 1): 78,\n",
       " ('command', 1): 77,\n",
       " ('higher', 1): 115,\n",
       " ('lay', 1): 76,\n",
       " ('mine', 1): 124,\n",
       " ('warn', 1): 393,\n",
       " ('trampl', 1): 6,\n",
       " ('credit', 1): 530,\n",
       " ('award', 1): 167,\n",
       " ('congression', 1): 1,\n",
       " ('medal', 1): 24,\n",
       " ('honor', 1): 70,\n",
       " ('blind', 1): 103,\n",
       " ('fuller', 1): 9,\n",
       " ('ignor', 1): 204,\n",
       " ('himtruli', 1): 1,\n",
       " ('inept', 1): 124,\n",
       " ('poke', 1): 50,\n",
       " ('wound', 1): 108,\n",
       " ('bayonet', 1): 4,\n",
       " ('eventu', 1): 223,\n",
       " ('pull', 1): 353,\n",
       " ('shrapnel', 1): 2,\n",
       " ('winc', 1): 19,\n",
       " ('moan', 1): 24,\n",
       " ('announc', 1): 67,\n",
       " ('qualifi', 1): 54,\n",
       " ('surgeon', 1): 31,\n",
       " ('involv', 1): 792,\n",
       " ('hard', 1): 1042,\n",
       " ('dull', 1): 535,\n",
       " ('david', 1): 248,\n",
       " ('ward', 1): 31,\n",
       " ('wrote', 1): 272,\n",
       " ('caper', 1): 27,\n",
       " ('sting', 1): 19,\n",
       " ('two', 1): 2453,\n",
       " ('jane', 1): 199,\n",
       " ('fonda', 1): 26,\n",
       " ('academi', 1): 83,\n",
       " ('klute', 1): 16,\n",
       " ('donald', 1): 56,\n",
       " ('sutherland', 1): 45,\n",
       " ('excel', 1): 301,\n",
       " ('revolut', 1): 55,\n",
       " ('kelli', 1): 87,\n",
       " ('plotwis', 1): 7,\n",
       " ('tale', 1): 253,\n",
       " ('small', 1): 582,\n",
       " ('gang', 1): 214,\n",
       " ('bumbl', 1): 41,\n",
       " ('misfit', 1): 29,\n",
       " ('plan', 1): 339,\n",
       " ('big', 1): 1310,\n",
       " ('heist', 1): 64,\n",
       " ('want', 1): 2831,\n",
       " ('hip', 1): 62,\n",
       " ('satir', 1): 115,\n",
       " ('sketch', 1): 43,\n",
       " ('type', 1): 524,\n",
       " ('nbc', 1): 36,\n",
       " ('televis', 1): 318,\n",
       " ('saturday', 1): 86,\n",
       " ('result', 1): 429,\n",
       " ('bit', 1): 1140,\n",
       " ('awkward', 1): 88,\n",
       " ('disconnect', 1): 33,\n",
       " ('destroy', 1): 296,\n",
       " ('suspens', 1): 369,\n",
       " ('liter', 1): 222,\n",
       " ('smash', 1): 62,\n",
       " ('demolit', 1): 11,\n",
       " ('run', 1): 1217,\n",
       " ('otherth', 1): 7,\n",
       " ('iri', 1): 10,\n",
       " ('cain', 1): 84,\n",
       " ('version', 1): 761,\n",
       " ('dramat', 1): 258,\n",
       " ('bree', 1): 4,\n",
       " ('daniel', 1): 85,\n",
       " ('prostitut', 1): 76,\n",
       " ('yet', 1): 855,\n",
       " ('believ', 1): 1555,\n",
       " ('pretend', 1): 119,\n",
       " ('perform', 1): 1466,\n",
       " ('terrif', 1): 50,\n",
       " ('lesson', 1): 131,\n",
       " ('teacher', 1): 253,\n",
       " ('actress', 1): 550,\n",
       " ('role', 1): 1285,\n",
       " ('suggest', 1): 320,\n",
       " ('prom', 1): 46,\n",
       " ('horror', 1): 1583,\n",
       " ('grow', 1): 216,\n",
       " ('ridicul', 1): 709,\n",
       " ('sick', 1): 266,\n",
       " ('tire', 1): 281,\n",
       " ('typic', 1): 308,\n",
       " ('slasher', 1): 235,\n",
       " ('loud', 1): 184,\n",
       " ('nois', 1): 94,\n",
       " ('scare', 1): 333,\n",
       " ('tension', 1): 210,\n",
       " ('care', 1): 922,\n",
       " ('develop', 1): 614,\n",
       " ('whatsoev', 1): 220,\n",
       " ('killer', 1): 671,\n",
       " ('oh', 1): 711,\n",
       " ('serial', 1): 134,\n",
       " ('exist', 1): 318,\n",
       " ('neveror', 1): 1,\n",
       " ('kill', 1): 1867,\n",
       " ('obsess', 1): 152,\n",
       " ('kidnap', 1): 142,\n",
       " ('idea', 1): 1303,\n",
       " ('predict', 1): 551,\n",
       " ('insult', 1): 280,\n",
       " ('horrordonna', 1): 1,\n",
       " ('brutal', 1): 144,\n",
       " ('murder', 1): 709,\n",
       " ('becom', 1): 1042,\n",
       " ('captur', 1): 221,\n",
       " ('jail', 1): 52,\n",
       " ('3', 1): 627,\n",
       " ('senior', 1): 13,\n",
       " ('escap', 1): 320,\n",
       " ('donna', 1): 36,\n",
       " ('hotel', 1): 119,\n",
       " ('maid', 1): 37,\n",
       " ('bell', 1): 61,\n",
       " ('boy', 1): 678,\n",
       " ('suspici', 1): 36,\n",
       " ('check', 1): 357,\n",
       " ('employe', 1): 46,\n",
       " ('troubl', 1): 287,\n",
       " ('human', 1): 651,\n",
       " ('hous', 1): 817,\n",
       " ('unnot', 1): 9,\n",
       " ('silent', 1): 159,\n",
       " ('wowim', 1): 1,\n",
       " ('flick', 1): 811,\n",
       " ('impress', 1): 478,\n",
       " ('situat', 1): 416,\n",
       " ('unbeliev', 1): 288,\n",
       " ('obnoxi', 1): 105,\n",
       " ('pg13', 1): 54,\n",
       " ('someon', 1): 1204,\n",
       " ('stab', 1): 87,\n",
       " ('death', 1): 758,\n",
       " ('blood', 1): 486,\n",
       " ('wouldnt', 1): 543,\n",
       " ('recommend', 1): 678,\n",
       " ('unless', 1): 362,\n",
       " ('teen', 1): 196,\n",
       " ('teenag', 1): 342,\n",
       " ('adult', 1): 271,\n",
       " ('enjoy', 1): 1174,\n",
       " ('could210', 1): 1,\n",
       " ('moron', 1): 132,\n",
       " ('rapper', 1): 18,\n",
       " ('gun', 1): 360,\n",
       " ('press', 1): 73,\n",
       " ('forehead', 1): 29,\n",
       " ('curs', 1): 94,\n",
       " ('shoot', 1): 488,\n",
       " ('clichã', 1): 340,\n",
       " ('gangstersth', 1): 4,\n",
       " ('explain', 1): 500,\n",
       " ('alreadi', 1): 590,\n",
       " ('warehous', 1): 22,\n",
       " ('sympathet', 1): 71,\n",
       " ('except', 1): 762,\n",
       " ('homeless', 1): 32,\n",
       " ('brainbil', 1): 1,\n",
       " ('paxton', 1): 22,\n",
       " ('william', 1): 232,\n",
       " ('sadler', 1): 2,\n",
       " ('hill', 1): 160,\n",
       " ('billi', 1): 138,\n",
       " ('villain', 1): 351,\n",
       " ('gangster', 1): 82,\n",
       " ('startth', 1): 2,\n",
       " ('fill', 1): 334,\n",
       " ('pointless', 1): 372,\n",
       " ('violenc', 1): 440,\n",
       " ('walter', 1): 86,\n",
       " ('specialti', 1): 3,\n",
       " ('fall', 1): 775,\n",
       " ('window', 1): 142,\n",
       " ('glass', 1): 78,\n",
       " ('fli', 1): 291,\n",
       " ('everywher', 1): 76,\n",
       " ...}"
      ]
     },
     "execution_count": 20,
     "metadata": {},
     "output_type": "execute_result"
    }
   ],
   "source": [
    "## Run this cell to get an idea about the corpus of words and their occurrence along with labels. \n",
    "## In this, we are computing the frequency of occurrence of word given that a review is 'positive'.\n",
    "## Similarly, we also compute the frequence of occurence of word given that a review is 'negative'.\n",
    "freqs"
   ]
  },
  {
   "cell_type": "markdown",
   "id": "759c24bc",
   "metadata": {
    "id": "759c24bc"
   },
   "source": [
    "## Q4. Training the Naive Bayes Model: (20 points)\n",
    "\n",
    "Now we are in the training phase of the Naive Bayes algorithm. In this cell, take a look at the ways to calculate the log likelihood and log prior values as these are important for testing in the next few cells. \n",
    "\n",
    "Also calculate the frequency of occurrence of words where the output is negative. In the same way, calculate the word frequency count using the above functions in order to compute the log likelihood.\n",
    "\n",
    "Return the logprior and loglikelihood output by the model from this function. "
   ]
  },
  {
   "cell_type": "code",
   "execution_count": null,
   "id": "a7f280e3",
   "metadata": {
    "id": "a7f280e3"
   },
   "outputs": [],
   "source": [
    "def train_naive_bayes(freqs, train_x, train_y):\n",
    "    '''\n",
    "    Input:\n",
    "        freqs: dictionary from (word, label) to how often the word appears\n",
    "        train_x: a list of reviews\n",
    "        train_y: a list of labels correponding to the reviews (0,1)\n",
    "    Output:\n",
    "        logprior: the log prior. (equation 3 above)\n",
    "        loglikelihood: the log likelihood of you Naive bayes equation. (equation 6 above)\n",
    "    '''\n",
    "    loglikelihood = {}\n",
    "    logprior = 0\n",
    "\n",
    "\n",
    "    # calculate V, the number of unique words in the vocabulary\n",
    "    vocab = set([pair[0] for pair in freqs.keys()])\n",
    "    V = len(vocab)\n",
    "\n",
    "    # calculate num_pos and num_neg - the total number of positive and negative words for all documents\n",
    "    num_pos = num_neg = 0\n",
    "    for pair in freqs.keys():\n",
    "        # if the label is positive (greater than zero)\n",
    "        if pair[1] < 1:\n",
    "\n",
    "            # Increment the number of positive words by the count for this (word, label) pair\n",
    "            num_pos += freqs[pair]\n",
    "\n",
    "        # else, the label is negative\n",
    "        else:\n",
    "\n",
    "            # increment the number of negative words by the count for this (word,label) pair\n",
    "            num_neg += freqs[pair]\n",
    "\n",
    "    # Calculate num_doc, the number of documents\n",
    "    num_doc = len(train_x)\n",
    "\n",
    "    # Calculate D_pos, the number of positive documents \n",
    "    pos_num_docs = sum(train_y <= 0)\n",
    "\n",
    "    # Calculate D_neg, the number of negative documents \n",
    "    neg_num_docs = sum(train_y > 0)\n",
    "\n",
    "    # Calculate logprior\n",
    "    logprior = np.log(pos_num_docs / neg_num_docs)\n",
    "\n",
    "    # For each word in the vocabulary...\n",
    "    for word in vocab:\n",
    "        # get the positive and negative frequency of the word\n",
    "        freq_pos = find_occurrence(freqs, word, 0)\n",
    "        freq_neg = find_occurrence(freqs, word, 1)\n",
    "\n",
    "        # calculate the probability that each word is positive, and negative\n",
    "        p_w_pos = (freq_pos + 1) / (num_pos + V)\n",
    "        p_w_neg = (freq_neg + 1) / (num_neg + V)\n",
    "\n",
    "        # calculate the log likelihood of the word\n",
    "        loglikelihood[word] = np.log(p_w_neg / p_w_pos)\n",
    "\n",
    "\n",
    "    return logprior, loglikelihood"
   ]
  },
  {
   "cell_type": "code",
   "execution_count": null,
   "id": "1561d892",
   "metadata": {
    "id": "1561d892"
   },
   "outputs": [
    {
     "name": "stdout",
     "output_type": "stream",
     "text": [
      "0.0\n",
      "88800\n"
     ]
    }
   ],
   "source": [
    "# You do not have to input any code in this cell, but it is relevant to grading, so please do not change anything\n",
    "logprior, loglikelihood = train_naive_bayes(freqs, X_train, y_train)\n",
    "print(logprior)\n",
    "print(len(loglikelihood))"
   ]
  },
  {
   "cell_type": "markdown",
   "id": "19d9c882",
   "metadata": {
    "id": "19d9c882"
   },
   "source": [
    "### Expected Output \n",
    "\n",
    "0.0 <br>\n",
    "91425"
   ]
  },
  {
   "cell_type": "markdown",
   "id": "78b51303",
   "metadata": {
    "id": "78b51303"
   },
   "source": [
    "## Q5. Implementing Naive Bayes Predict Function: (10 points)\n",
    "\n",
    "It is now time to make our prediction as to whether a given review is negative or positive respectively. \n",
    "\n",
    "After adding the log likelihood values, ensure that the output is 1 (negative) if the sum of the log likelihood value is greater than 0 and 0 (positive) if the sum of the log likelihood is less than or equal to 0. "
   ]
  },
  {
   "cell_type": "code",
   "execution_count": null,
   "id": "b692c2f9",
   "metadata": {
    "id": "b692c2f9"
   },
   "outputs": [],
   "source": [
    "# TASK 4 CELL\n",
    "\n",
    "def naive_bayes_predict(review, logprior, loglikelihood):\n",
    "    '''\n",
    "    Params:\n",
    "        review: a string\n",
    "        logprior: a number\n",
    "        loglikelihood: a dictionary of words mapping to numbers\n",
    "    Return:\n",
    "        total_prob: the sum of all the loglikelihoods of each word in the review (if found in the dictionary) + logprior (a number)\n",
    "\n",
    "    '''\n",
    "    \n",
    "    # process the review to get a list of words\n",
    "    word_l = clean_review(review).split()\n",
    "\n",
    "    # initialize probability to zero\n",
    "    total_prob = 0\n",
    "\n",
    "    # add the logprior\n",
    "    total_prob += logprior\n",
    "\n",
    "    for word in word_l:\n",
    "\n",
    "        # check if the word exists in the loglikelihood dictionary\n",
    "        if word in loglikelihood:\n",
    "            # add the log likelihood of that word to the probability\n",
    "            total_prob += loglikelihood[word]\n",
    "            \n",
    "    if total_prob >= 0:\n",
    "        total_prob = 1\n",
    "    else:\n",
    "        total_prob = 0\n",
    "        \n",
    "    return total_prob"
   ]
  },
  {
   "cell_type": "code",
   "execution_count": null,
   "id": "4b170333",
   "metadata": {
    "colab": {
     "base_uri": "https://localhost:8080/"
    },
    "id": "4b170333",
    "outputId": "0cf6bc90-90e8-4dee-bf95-7eaf39dce147"
   },
   "outputs": [
    {
     "name": "stdout",
     "output_type": "stream",
     "text": [
      "The expected output is 1\n"
     ]
    }
   ],
   "source": [
    "# You do not have to input any code in this cell, but it is relevant to grading, so please do not change anything\n",
    "\n",
    "# Experiment with your own review.\n",
    "my_review = \"I thought this series was going to be another fun, action series with some dynamic plots and great performances. I was wrong. While I like Jamie Denton, this show is hardly worth watching at all, unless you enjoy watching some people brutalized and the actions of the agents supposedly warranted under the theme of national security. The show is great propaganda for the current government, and spews out jingoism as though we talk that way every day. After a couple of episodes, it was boring the hell out of me, and I started watching reruns of House Invaders on BBCAmerica instead. Rather watch CSI and Without a Trace, without a doubt.\"\n",
    "p = naive_bayes_predict(my_review, logprior, loglikelihood)\n",
    "print('The expected output is', p)"
   ]
  },
  {
   "cell_type": "markdown",
   "id": "6242708f",
   "metadata": {
    "id": "6242708f"
   },
   "source": [
    "### Expected Output :\n",
    "The expected output is 1"
   ]
  },
  {
   "cell_type": "markdown",
   "id": "7c4eeb71",
   "metadata": {
    "id": "7c4eeb71"
   },
   "source": [
    "## Q6. Implementing Naive Bayes Test function: (10 points)\n",
    "\n",
    "In this function, implement the previous functions such as naive_bayes_predict to get the predictions for the test set. \n",
    "\n",
    "In addition to this, the function should return the total number of reviews that it correctly classified as 'positive' or 'negative'. "
   ]
  },
  {
   "cell_type": "code",
   "execution_count": null,
   "id": "66a511e7",
   "metadata": {
    "id": "66a511e7"
   },
   "outputs": [],
   "source": [
    "# UNQ_C6 (UNIQUE CELL IDENTIFIER, DO NOT EDIT)\n",
    "def test_naive_bayes(test_x, test_y, logprior, loglikelihood):\n",
    "    \"\"\"\n",
    "    Input:\n",
    "        test_x: A list of reviews\n",
    "        test_y: the corresponding labels for the list of reviews\n",
    "        logprior: the logprior\n",
    "        loglikelihood: a dictionary with the loglikelihoods for each word\n",
    "    Output:\n",
    "        accuracy: (# of reviews classified correctly)/(total # of reviews)\n",
    "    \"\"\"\n",
    "    accuracy = 0  \n",
    "\n",
    "    \n",
    "    y_hats = []\n",
    "    for review in test_x:\n",
    "        # if the prediction is > 0\n",
    "        if naive_bayes_predict(review, logprior, loglikelihood) > 0:\n",
    "            # the predicted class is 1\n",
    "            y_hat_i = 1\n",
    "        else:\n",
    "            # otherwise the predicted class is 0\n",
    "            y_hat_i = 0\n",
    "\n",
    "        # append the predicted class to the list y_hats\n",
    "        y_hats.append(y_hat_i)\n",
    "\n",
    "    # error is the average of the absolute values of the differences between y_hats and test_y\n",
    "    error = np.mean(np.absolute(y_hats - test_y))\n",
    "\n",
    "    accuracy = 1 - error\n",
    "    \n",
    "    print(confusion_matrix(test_y, y_hats))\n",
    "    print(\"Accuracy:\", accuracy)\n",
    "\n",
    "    return accuracy, y_hats"
   ]
  },
  {
   "cell_type": "code",
   "execution_count": null,
   "id": "8a9c5d9d",
   "metadata": {
    "id": "8a9c5d9d"
   },
   "outputs": [
    {
     "name": "stdout",
     "output_type": "stream",
     "text": [
      "If you like original gut wrenching laughter you will like this movie. If you are young or old then y -> 0.00\n",
      "What a waste of talent. A very poor, semi-coherent, script cripples this film. Rather unimaginative  -> 1.00\n",
      "I have seen this film at least 100 times and I am still excited by it, the acting is perfect and the -> 0.00\n",
      "Cheap, amateurish, unimaginative, exploitative... but don't think it'll have redeeming amusement val -> 1.00\n"
     ]
    }
   ],
   "source": [
    "# For grading purpose only\n",
    "# You do not have to input any code in this cell, but it is relevant to grading, so please do not change anything\n",
    "\n",
    "# Run this cell to test your function\n",
    "\n",
    "for review in [\"If you like original gut wrenching laughter you will like this movie. If you are young or old then you will love this movie, hell even my mom liked it.<br /><br />Great Camp!!!\",\n",
    "                \"What a waste of talent. A very poor, semi-coherent, script cripples this film. Rather unimaginative direction, too. Some VERY faint echoes of Fargo here, but it just doesn't come off.\",\n",
    "                \"I have seen this film at least 100 times and I am still excited by it, the acting is perfect and the romance between Joe and Jean keeps me on the edge of my seat, plus I still think Bryan Brown is the tops. Brilliant Film.\",\n",
    "                \"Cheap, amateurish, unimaginative, exploitative... but don't think it'll have redeeming amusement value. About as unentertaining, uninstructive and just plain dull as a film can be.\"]:\n",
    "    p = naive_bayes_predict(review, logprior, loglikelihood)\n",
    "    print(f'{review[:100]} -> {p:.2f}')\n",
    "    "
   ]
  },
  {
   "cell_type": "markdown",
   "id": "43e2ef98",
   "metadata": {
    "id": "43e2ef98"
   },
   "source": [
    "### Expected Output :\n",
    "\n",
    "If you like original gut wrenching laughter you will like this movie. If you are young or old then y -> 0.00 <br>\n",
    "What a waste of talent. A very poor, semi-coherent, script cripples this film. Rather unimaginative  -> 1.00<br>\n",
    "I have seen this film at least 100 times and I am still excited by it, the acting is perfect and the -> 0.00 <br>\n",
    "Cheap, amateurish, unimaginative, exploitative... but don't think it'll have redeeming amusement val -> 1.00\n",
    "\n"
   ]
  },
  {
   "cell_type": "code",
   "execution_count": null,
   "id": "216fa97a",
   "metadata": {
    "colab": {
     "base_uri": "https://localhost:8080/"
    },
    "id": "216fa97a",
    "outputId": "9d1f21c7-b324-43c2-e841-269c0306cbb4"
   },
   "outputs": [
    {
     "data": {
      "text/plain": [
       "1"
      ]
     },
     "execution_count": 27,
     "metadata": {},
     "output_type": "execute_result"
    }
   ],
   "source": [
    "# Feel free to check the sentiment of your own review below\n",
    "my_review = 'The moview was very boring, I wanted to leave in the middle'\n",
    "naive_bayes_predict(my_review, logprior, loglikelihood)"
   ]
  },
  {
   "cell_type": "markdown",
   "id": "8a45e4f0",
   "metadata": {
    "id": "8a45e4f0"
   },
   "source": [
    "### Expected Output :\n",
    "1"
   ]
  },
  {
   "cell_type": "markdown",
   "id": "mAIkM4aCC1H7",
   "metadata": {
    "id": "mAIkM4aCC1H7"
   },
   "source": [
    "# Q7. Evaluate the accuracy (10 Points)\n",
    "1. Split your data into training and test sets using random selection. Set the seed as parameter of the function so that user can select a different training and test set by changin seed.\n",
    "\n",
    "2. Calculate model paramters with training set.\n",
    "\n",
    "3. Print confusion matrix for training and test set.\n",
    "\n",
    "4. Examine False Positive and False Negative cases and provide reasoning why they get misclassified."
   ]
  },
  {
   "cell_type": "code",
   "execution_count": null,
   "id": "introductory-token",
   "metadata": {},
   "outputs": [],
   "source": [
    "# split the data to 80% traning and 20% testing\n",
    "from sklearn.model_selection import train_test_split\n",
    "from sklearn.preprocessing import StandardScaler\n",
    "import random\n",
    "\n",
    "X_train, X_test, Y_train, Y_test = train_test_split(df_upsampled['review'], df_upsampled['sentiment'], test_size=0.2)\n",
    "\n",
    "## With the use of mapping function, we replace\n",
    "## the label in the form of string to an integer. \n",
    "\n",
    "output_map = {'positive': 0, 'negative': 1}\n",
    "y_train = Y_train.map(output_map)\n",
    "y_test = Y_test.map(output_map)"
   ]
  },
  {
   "cell_type": "code",
   "execution_count": null,
   "id": "auburn-teacher",
   "metadata": {},
   "outputs": [
    {
     "name": "stdout",
     "output_type": "stream",
     "text": [
      "-0.009820702238965728\n",
      "88512\n"
     ]
    }
   ],
   "source": [
    "freqs = review_counter({}, X_train, y_train)\n",
    "\n",
    "logprior, loglikelihood = train_naive_bayes(freqs, X_train, y_train)\n",
    "print(logprior)\n",
    "print(len(loglikelihood))"
   ]
  },
  {
   "cell_type": "code",
   "execution_count": null,
   "id": "attractive-letters",
   "metadata": {},
   "outputs": [
    {
     "name": "stdout",
     "output_type": "stream",
     "text": [
      "Confusion matrix for training set:\n",
      "[[9025  905]\n",
      " [ 369 9659]]\n",
      "Accuracy: 0.9361659484918329\n",
      "Confusion matrix for test set:\n",
      "[[2192  352]\n",
      " [ 234 2212]]\n",
      "Accuracy: 0.8825651302605211\n"
     ]
    }
   ],
   "source": [
    "from sklearn.metrics import confusion_matrix\n",
    "\n",
    "print(\"Confusion matrix for training set:\")\n",
    "acc1, y_pred1 = test_naive_bayes(X_train, y_train, logprior, loglikelihood)\n",
    "print(\"Confusion matrix for test set:\")\n",
    "acc2, y_pred2 = test_naive_bayes(X_test, y_test, logprior, loglikelihood)"
   ]
  },
  {
   "cell_type": "markdown",
   "id": "legendary-characteristic",
   "metadata": {},
   "source": [
    "We have false positives and false negatives because some reviews occur with lots of positive words, but they actually are negative reviews."
   ]
  },
  {
   "cell_type": "markdown",
   "id": "XbzttYVnBo7W",
   "metadata": {
    "id": "XbzttYVnBo7W"
   },
   "source": [
    "# Q8. Modularize your calssifier (10 points)\n",
    "1. Convert your code into a python module text_classifier.py\n",
    "\n",
    "2. The user should be able to launch the application on command prompt using python test_classifier.py command. The module will automatically load the model paramters from a local file of your choice and be ready to take the input from user on command prompt. The program will preprocess user input, tokenize and predict the class.\n",
    "\n",
    "3. Your module will take the input from user and output sentiment class in an indefinite loop. The output should printout the probabilities for each input token along with the final classification decision. Program will quit if user enters X.\n"
   ]
  },
  {
   "cell_type": "code",
   "execution_count": null,
   "id": "assumed-domestic",
   "metadata": {},
   "outputs": [],
   "source": [
    "import pickle\n",
    "\n",
    "file = open(\"model_params.txt\", \"wb\") \n",
    "pickle.dump(loglikelihood, file)\n",
    "file.close"
   ]
  },
  {
   "cell_type": "code",
   "execution_count": null,
   "id": "lesser-artwork",
   "metadata": {},
   "outputs": [
    {
     "ename": "TypeError",
     "evalue": "write() argument must be str, not numpy.float64",
     "output_type": "error",
     "traceback": [
      "\u001b[1;31m---------------------------------------------------------------------------\u001b[0m",
      "\u001b[1;31mTypeError\u001b[0m                                 Traceback (most recent call last)",
      "\u001b[1;32m<ipython-input-31-d8df4cb6b7e1>\u001b[0m in \u001b[0;36m<module>\u001b[1;34m\u001b[0m\n\u001b[0;32m      1\u001b[0m \u001b[0mfile\u001b[0m \u001b[1;33m=\u001b[0m \u001b[0mopen\u001b[0m\u001b[1;33m(\u001b[0m\u001b[1;34m\"model_params.txt\"\u001b[0m\u001b[1;33m,\u001b[0m \u001b[1;34m\"w\"\u001b[0m\u001b[1;33m)\u001b[0m\u001b[1;33m\u001b[0m\u001b[1;33m\u001b[0m\u001b[0m\n\u001b[1;32m----> 2\u001b[1;33m \u001b[0mfile\u001b[0m\u001b[1;33m.\u001b[0m\u001b[0mwrite\u001b[0m\u001b[1;33m(\u001b[0m\u001b[0mlogprior\u001b[0m\u001b[1;33m)\u001b[0m\u001b[1;33m\u001b[0m\u001b[1;33m\u001b[0m\u001b[0m\n\u001b[0m\u001b[0;32m      3\u001b[0m \u001b[0mfile\u001b[0m\u001b[1;33m.\u001b[0m\u001b[0mwrite\u001b[0m\u001b[1;33m(\u001b[0m\u001b[0mloglikelihood\u001b[0m\u001b[1;33m)\u001b[0m\u001b[1;33m\u001b[0m\u001b[1;33m\u001b[0m\u001b[0m\n\u001b[0;32m      4\u001b[0m \u001b[0mfile\u001b[0m\u001b[1;33m.\u001b[0m\u001b[0mclose\u001b[0m\u001b[1;33m(\u001b[0m\u001b[1;33m)\u001b[0m\u001b[1;33m\u001b[0m\u001b[1;33m\u001b[0m\u001b[0m\n",
      "\u001b[1;31mTypeError\u001b[0m: write() argument must be str, not numpy.float64"
     ]
    }
   ],
   "source": []
  },
  {
   "cell_type": "code",
   "execution_count": null,
   "id": "reverse-stockholm",
   "metadata": {},
   "outputs": [],
   "source": [
    "%run text_classifier.py"
   ]
  },
  {
   "cell_type": "markdown",
   "id": "82e6e4d1",
   "metadata": {
    "id": "82e6e4d1"
   },
   "source": [
    "# Q9. Theory Questions: (10 points)\n",
    "\n",
    "1. Why is Laplace Smoothing or Additive Smoothing required while executing Naive Bayes operations, especially for text classification? Show how not having additive smoothing leads to bad outcomes by using an example of training and the test set. (10 points)\n",
    "\n",
    "\n",
    "2. Why are logarithmic values computed instead of only probability values in the Naive Bayes algorithm? (5 points)"
   ]
  },
  {
   "cell_type": "markdown",
   "id": "familiar-romance",
   "metadata": {},
   "source": [
    "### Answer:\n",
    "1. According to the book chapter of NLP, when we are trying to estamate the likelihood of the word \"wonderful\" which given class positive but suppose there are no training documents that both contain the word \"wonderful\" and are classified as positive. In such a case thr probability for this feature will be zero: $$\\hat P (\"wonderful\"|positive) = \\frac{count(\"wonderful\", positive)}{\\sum_{w \\in V} count(w, positive)} = 0$$. Since naive bayes naively multiplies all the feature likelihoods together, zero probabilities in the likelihood term for any class will cause the probability of the calss to be zero. The solution for this problem if the ass-one (Laplace) smoothing. While Laplace smoothing is usually replaced by more sophistivated smoothing algorithms in language modeling, it is commonly used in naive bayes tect categorization.\n",
    "\n",
    "\n",
    "2. The naive bayes calculations are done in log space to avoid underflow and increase speed."
   ]
  }
 ],
 "metadata": {
  "colab": {
   "collapsed_sections": [],
   "name": "CS6120_NLP_Assignment_1_Notebook.ipynb",
   "provenance": [],
   "toc_visible": true
  },
  "interpreter": {
   "hash": "85df4d8eb55ec4d09872faeb6b150a812d52360d2d1ccd4674b861528cf99dd9"
  },
  "kernelspec": {
   "display_name": "Python 3",
   "language": "python",
   "name": "python3"
  },
  "language_info": {
   "codemirror_mode": {
    "name": "ipython",
    "version": 3
   },
   "file_extension": ".py",
   "mimetype": "text/x-python",
   "name": "python",
   "nbconvert_exporter": "python",
   "pygments_lexer": "ipython3",
   "version": "3.7.10"
  }
 },
 "nbformat": 4,
 "nbformat_minor": 5
}
